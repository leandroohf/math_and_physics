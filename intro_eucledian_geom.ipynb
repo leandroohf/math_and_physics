{
 "cells": [
  {
   "cell_type": "markdown",
   "metadata": {},
   "source": [
    "# Grometry\n",
    "\n",
    "**WIP**\n",
    "\n",
    "In this notebook the basic conepts of grometry high schooll will be revisited. The idea is to do the main proof so I can help my daughter. \n",
    "\n",
    "* Goals: proof the main theorems \n",
    "    * Alternates angles theorems and angle in parallel lines\n",
    "    * Sum of angle of the triangles\n",
    "    * Area of triangles ans square\n",
    "    * Pythagoras\n",
    "    * "
   ]
  },
  {
   "cell_type": "markdown",
   "metadata": {},
   "source": [
    "# Alternates angles\n",
    "\n",
    "Angles alternates by the vertice are equal."
   ]
  },
  {
   "cell_type": "markdown",
   "metadata": {},
   "source": [
    "\n",
    "![alternate angles](images/geom/IMG_0790.jpg)"
   ]
  },
  {
   "cell_type": "markdown",
   "metadata": {},
   "source": [
    "## Paralles lines"
   ]
  },
  {
   "cell_type": "markdown",
   "metadata": {},
   "source": [
    "![alternate angles](images/geom/IMG_0791.jpg)"
   ]
  },
  {
   "cell_type": "markdown",
   "metadata": {},
   "source": [
    "## Sum of the angles of triangles =  180 degree"
   ]
  },
  {
   "cell_type": "markdown",
   "metadata": {},
   "source": [
    "![alternate angles](images/geom/IMG_0792.jpg)"
   ]
  },
  {
   "cell_type": "markdown",
   "metadata": {},
   "source": [
    "## Areas of triangles"
   ]
  },
  {
   "cell_type": "markdown",
   "metadata": {},
   "source": [
    "![alternate angles](images/geom/IMG_0793.jpg)"
   ]
  },
  {
   "cell_type": "markdown",
   "metadata": {},
   "source": [
    "## Circunscribed angles"
   ]
  },
  {
   "cell_type": "markdown",
   "metadata": {},
   "source": [
    "![alternate angles](images/geom/IMG_0794.jpg)"
   ]
  },
  {
   "cell_type": "markdown",
   "metadata": {},
   "source": [
    "## Angles Outside a Circle \n",
    "\n",
    "1. outside angles\n",
    "1. tangent chord theorem \n",
    "1. show special cases: \n",
    "    * both tangents\n",
    "    * "
   ]
  },
  {
   "cell_type": "markdown",
   "metadata": {},
   "source": [
    "![alternate angles](images/geom/IMG_0796.jpg)"
   ]
  },
  {
   "cell_type": "markdown",
   "metadata": {},
   "source": [
    "![alternate angles](images/geom/IMG_0798.jpg)"
   ]
  },
  {
   "cell_type": "markdown",
   "metadata": {},
   "source": [
    "## Pythagoras\n",
    "\n",
    "$\n",
    "c^2 = a^2 + b^2\n",
    "$"
   ]
  },
  {
   "cell_type": "markdown",
   "metadata": {},
   "source": [
    "![alternate angles](images/geom/IMG_0799.jpg)"
   ]
  },
  {
   "cell_type": "markdown",
   "metadata": {},
   "source": [
    "## Congruent and similar triangles \n",
    "\n",
    "* this is very important\n",
    "* explain why the names \n",
    "* try to demontrade some of the cases\n",
    "    * SSS\n",
    "    * ASA\n",
    "    * SAS \n",
    "* SSS => all angles, aread and permiter are the same\n",
    "* Especial case AA =? imply all angles and area n permiter are proportional\n"
   ]
  },
  {
   "cell_type": "markdown",
   "metadata": {},
   "source": []
  },
  {
   "cell_type": "markdown",
   "metadata": {},
   "source": [
    "## Circunscribed segments\n",
    "\n",
    "* edge case\n",
    "    1. perpendicular\n",
    "    1. perpendicular and passing to center of the circle (validation)\n",
    "\n",
    "        for validation you can easy set perpendicular lines that pass to the center of the circle. In this case:\n",
    "\n",
    "        $\n",
    "        a = b = c = d = r \\\\\n",
    "        r^2 = r^2 \n",
    "        $\n",
    "\n",
    "    1. perpendicular but one is tangent to the circle (validation)\n",
    "\n",
    "        Let the segment $\\overline{DC}$ be tangent t the circle $C$. So, $\n",
    "        a = 0, b = \\overline{AB}$ and $c= d = 0$. The equatiosn give us\n",
    "\n",
    "        $\n",
    "        a*b = c*d \\\\\n",
    "        0 = 0\n",
    "        $ \n",
    "\n",
    "\n"
   ]
  },
  {
   "cell_type": "markdown",
   "metadata": {},
   "source": [
    "![alternate angles](images/geom/IMG_0804.jpg)"
   ]
  },
  {
   "cell_type": "markdown",
   "metadata": {},
   "source": [
    "## Outside segments\n",
    "\n",
    "1. one segment is tangent. Let $\\overline{PB}$ tangent\n",
    "\n",
    "    $\n",
    "    b = 0 \\\\\n",
    "    a (a+b) = c (c+d) \\\\\n",
    "    a^2 = c (c+d)\n",
    "    $\n",
    "\n",
    "1. both segments are tanges (validation)\n",
    "\n",
    "    $\n",
    "    a = c\n",
    "    $"
   ]
  },
  {
   "cell_type": "markdown",
   "metadata": {},
   "source": [
    "![alternate angles](images/geom/IMG_0806.jpg)"
   ]
  },
  {
   "cell_type": "markdown",
   "metadata": {},
   "source": [
    "#"
   ]
  }
 ],
 "metadata": {
  "language_info": {
   "name": "python"
  }
 },
 "nbformat": 4,
 "nbformat_minor": 2
}
